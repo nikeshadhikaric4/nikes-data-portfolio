{
 "cells": [
  {
   "cell_type": "markdown",
   "id": "intro",
   "metadata": {},
   "source": [
    "# E-Commerce Sales EDA\n",
    "**Author**: Nikesh Adhikari \n",
    "**Date**: May 4, 2025  \n",
    "\n",
    "This notebook performs an exploratory data analysis (EDA) on an e-commerce dataset, covering transactions from December 2010 to December 2011. The analysis includes data cleaning, summary statistics, visualizations, and a professional Markdown report (`eda_report.md`) with actionable insights."
   ]
  },
  {
   "cell_type": "markdown",
   "id": "install-libs",
   "metadata": {},
   "source": [
    "## 1. Install Required Libraries\n",
    "Install `pandas`, `seaborn`, and `matplotlib` to ensure all dependencies are available."
   ]
  },
  {
   "cell_type": "code",
   "execution_count": 4,
   "id": "install-libs-code",
   "metadata": {},
   "outputs": [
    {
     "name": "stdout",
     "output_type": "stream",
     "text": [
      "Defaulting to user installation because normal site-packages is not writeable\n",
      "Requirement already satisfied: pandas in c:\\programdata\\anaconda3\\lib\\site-packages (2.2.3)\n",
      "Requirement already satisfied: seaborn in c:\\programdata\\anaconda3\\lib\\site-packages (0.13.2)\n",
      "Requirement already satisfied: matplotlib in c:\\programdata\\anaconda3\\lib\\site-packages (3.9.2)\n",
      "Requirement already satisfied: numpy>=1.23.2 in c:\\programdata\\anaconda3\\lib\\site-packages (from pandas) (1.26.4)\n",
      "Requirement already satisfied: python-dateutil>=2.8.2 in c:\\programdata\\anaconda3\\lib\\site-packages (from pandas) (2.9.0.post0)\n",
      "Requirement already satisfied: pytz>=2020.1 in c:\\programdata\\anaconda3\\lib\\site-packages (from pandas) (2024.1)\n",
      "Requirement already satisfied: tzdata>=2022.7 in c:\\programdata\\anaconda3\\lib\\site-packages (from pandas) (2023.3)\n",
      "Requirement already satisfied: contourpy>=1.0.1 in c:\\programdata\\anaconda3\\lib\\site-packages (from matplotlib) (1.3.1)\n",
      "Requirement already satisfied: cycler>=0.10 in c:\\programdata\\anaconda3\\lib\\site-packages (from matplotlib) (0.11.0)\n",
      "Requirement already satisfied: fonttools>=4.22.0 in c:\\programdata\\anaconda3\\lib\\site-packages (from matplotlib) (4.51.0)\n",
      "Requirement already satisfied: kiwisolver>=1.3.1 in c:\\programdata\\anaconda3\\lib\\site-packages (from matplotlib) (1.4.4)\n",
      "Requirement already satisfied: packaging>=20.0 in c:\\programdata\\anaconda3\\lib\\site-packages (from matplotlib) (24.1)\n",
      "Requirement already satisfied: pillow>=8 in c:\\programdata\\anaconda3\\lib\\site-packages (from matplotlib) (11.0.0)\n",
      "Requirement already satisfied: pyparsing>=2.3.1 in c:\\programdata\\anaconda3\\lib\\site-packages (from matplotlib) (3.2.0)\n",
      "Requirement already satisfied: six>=1.5 in c:\\programdata\\anaconda3\\lib\\site-packages (from python-dateutil>=2.8.2->pandas) (1.16.0)\n"
     ]
    }
   ],
   "source": [
    "!pip install pandas seaborn matplotlib"
   ]
  },
  {
   "cell_type": "markdown",
   "id": "load-data",
   "metadata": {},
   "source": [
    "## 2. Load and Inspect Data\n",
    "Load the e-commerce dataset and inspect its structure, including data types and missing values."
   ]
  },
  {
   "cell_type": "code",
   "execution_count": 5,
   "id": "load-data-code",
   "metadata": {},
   "outputs": [
    {
     "name": "stdout",
     "output_type": "stream",
     "text": [
      "Dataset Information:\n",
      "<class 'pandas.core.frame.DataFrame'>\n",
      "RangeIndex: 541909 entries, 0 to 541908\n",
      "Data columns (total 8 columns):\n",
      " #   Column       Non-Null Count   Dtype  \n",
      "---  ------       --------------   -----  \n",
      " 0   InvoiceNo    541909 non-null  object \n",
      " 1   StockCode    541909 non-null  object \n",
      " 2   Description  540455 non-null  object \n",
      " 3   Quantity     541909 non-null  int64  \n",
      " 4   InvoiceDate  541909 non-null  object \n",
      " 5   UnitPrice    541909 non-null  float64\n",
      " 6   CustomerID   406829 non-null  float64\n",
      " 7   Country      541909 non-null  object \n",
      "dtypes: float64(2), int64(1), object(5)\n",
      "memory usage: 33.1+ MB\n",
      "\n",
      "First 5 Rows:\n",
      "  InvoiceNo StockCode                          Description  Quantity  \\\n",
      "0    536365    85123A   WHITE HANGING HEART T-LIGHT HOLDER         6   \n",
      "1    536365     71053                  WHITE METAL LANTERN         6   \n",
      "2    536365    84406B       CREAM CUPID HEARTS COAT HANGER         8   \n",
      "3    536365    84029G  KNITTED UNION FLAG HOT WATER BOTTLE         6   \n",
      "4    536365    84029E       RED WOOLLY HOTTIE WHITE HEART.         6   \n",
      "\n",
      "      InvoiceDate  UnitPrice  CustomerID         Country  \n",
      "0  12/1/2010 8:26       2.55     17850.0  United Kingdom  \n",
      "1  12/1/2010 8:26       3.39     17850.0  United Kingdom  \n",
      "2  12/1/2010 8:26       2.75     17850.0  United Kingdom  \n",
      "3  12/1/2010 8:26       3.39     17850.0  United Kingdom  \n",
      "4  12/1/2010 8:26       3.39     17850.0  United Kingdom  \n",
      "\n",
      "Missing Values:\n",
      "InvoiceNo           0\n",
      "StockCode           0\n",
      "Description      1454\n",
      "Quantity            0\n",
      "InvoiceDate         0\n",
      "UnitPrice           0\n",
      "CustomerID     135080\n",
      "Country             0\n",
      "dtype: int64\n"
     ]
    }
   ],
   "source": [
    "import pandas as pd\n",
    "\n",
    "# Load dataset with error handling\n",
    "try:\n",
    "    df = pd.read_csv(\"D:/virtualcompany/Task1/ecommerce.csv\", encoding=\"latin1\")\n",
    "except FileNotFoundError:\n",
    "    print(\"Error: Dataset file not found. Please check the file path.\")\n",
    "    exit()\n",
    "\n",
    "# Display dataset info\n",
    "print(\"Dataset Information:\")\n",
    "df.info()\n",
    "print(\"\\nFirst 5 Rows:\")\n",
    "print(df.head())\n",
    "print(\"\\nMissing Values:\")\n",
    "print(df.isnull().sum())"
   ]
  },
  {
   "cell_type": "markdown",
   "id": "clean-data",
   "metadata": {},
   "source": [
    "## 3. Clean Data\n",
    "- Drop rows with missing `CustomerID` or `Description`.\n",
    "- Filter out rows with non-positive `Quantity` or `UnitPrice` (returns or errors).\n",
    "- Convert `InvoiceDate` to datetime.\n",
    "- Add `TotalPrice` column (`Quantity * UnitPrice`)."
   ]
  },
  {
   "cell_type": "code",
   "execution_count": 6,
   "id": "clean-data-code",
   "metadata": {},
   "outputs": [
    {
     "name": "stdout",
     "output_type": "stream",
     "text": [
      "After Cleaning:\n",
      "\n",
      "Missing Values:\n",
      "InvoiceNo      0\n",
      "StockCode      0\n",
      "Description    0\n",
      "Quantity       0\n",
      "InvoiceDate    0\n",
      "UnitPrice      0\n",
      "CustomerID     0\n",
      "Country        0\n",
      "TotalPrice     0\n",
      "dtype: int64\n",
      "\n",
      "Dataset Info:\n",
      "<class 'pandas.core.frame.DataFrame'>\n",
      "Index: 397884 entries, 0 to 541908\n",
      "Data columns (total 9 columns):\n",
      " #   Column       Non-Null Count   Dtype         \n",
      "---  ------       --------------   -----         \n",
      " 0   InvoiceNo    397884 non-null  object        \n",
      " 1   StockCode    397884 non-null  object        \n",
      " 2   Description  397884 non-null  object        \n",
      " 3   Quantity     397884 non-null  int64         \n",
      " 4   InvoiceDate  397884 non-null  datetime64[ns]\n",
      " 5   UnitPrice    397884 non-null  float64       \n",
      " 6   CustomerID   397884 non-null  float64       \n",
      " 7   Country      397884 non-null  object        \n",
      " 8   TotalPrice   397884 non-null  float64       \n",
      "dtypes: datetime64[ns](1), float64(3), int64(1), object(4)\n",
      "memory usage: 30.4+ MB\n",
      "\n",
      "First 5 Rows:\n",
      "  InvoiceNo StockCode                          Description  Quantity  \\\n",
      "0    536365    85123A   WHITE HANGING HEART T-LIGHT HOLDER         6   \n",
      "1    536365     71053                  WHITE METAL LANTERN         6   \n",
      "2    536365    84406B       CREAM CUPID HEARTS COAT HANGER         8   \n",
      "3    536365    84029G  KNITTED UNION FLAG HOT WATER BOTTLE         6   \n",
      "4    536365    84029E       RED WOOLLY HOTTIE WHITE HEART.         6   \n",
      "\n",
      "          InvoiceDate  UnitPrice  CustomerID         Country  TotalPrice  \n",
      "0 2010-12-01 08:26:00       2.55     17850.0  United Kingdom       15.30  \n",
      "1 2010-12-01 08:26:00       3.39     17850.0  United Kingdom       20.34  \n",
      "2 2010-12-01 08:26:00       2.75     17850.0  United Kingdom       22.00  \n",
      "3 2010-12-01 08:26:00       3.39     17850.0  United Kingdom       20.34  \n",
      "4 2010-12-01 08:26:00       3.39     17850.0  United Kingdom       20.34  \n"
     ]
    }
   ],
   "source": [
    "# Drop rows with missing values\n",
    "df.dropna(subset=['CustomerID', 'Description'], inplace=True)\n",
    "\n",
    "# Filter out invalid quantities or prices\n",
    "df = df[(df['Quantity'] > 0) & (df['UnitPrice'] > 0)]\n",
    "\n",
    "# Convert InvoiceDate to datetime\n",
    "df['InvoiceDate'] = pd.to_datetime(df['InvoiceDate'])\n",
    "\n",
    "# Calculate TotalPrice\n",
    "df['TotalPrice'] = df['Quantity'] * df['UnitPrice']\n",
    "\n",
    "# Verify cleaning\n",
    "print(\"After Cleaning:\")\n",
    "print(\"\\nMissing Values:\")\n",
    "print(df.isnull().sum())\n",
    "print(\"\\nDataset Info:\")\n",
    "df.info()\n",
    "print(\"\\nFirst 5 Rows:\")\n",
    "print(df.head())"
   ]
  },
  {
   "cell_type": "markdown",
   "id": "eda",
   "metadata": {},
   "source": [
    "## 4. Perform Exploratory Data Analysis\n",
    "Calculate summary statistics and analyze:\n",
    "- Total sales and average order value.\n",
    "- Sales by country (top 10).\n",
    "- Monthly sales trends.\n",
    "- Top products by revenue."
   ]
  },
  {
   "cell_type": "code",
   "execution_count": 7,
   "id": "eda-code",
   "metadata": {},
   "outputs": [
    {
     "name": "stdout",
     "output_type": "stream",
     "text": [
      "Summary Statistics:\n",
      "Total Sales: $8,911,407.90\n",
      "Average Order Value: $22.40\n",
      "Unique Customers: 4,338\n",
      "Top Country: United Kingdom ($7,308,391.55)\n",
      "\n",
      "Top 5 Products by Revenue:\n",
      "Description\n",
      "PAPER CRAFT , LITTLE BIRDIE           168469.60\n",
      "REGENCY CAKESTAND 3 TIER              142592.95\n",
      "WHITE HANGING HEART T-LIGHT HOLDER    100448.15\n",
      "JUMBO BAG RED RETROSPOT                85220.78\n",
      "MEDIUM CERAMIC TOP STORAGE JAR         81416.73\n",
      "Name: TotalPrice, dtype: float64\n"
     ]
    }
   ],
   "source": [
    "# Summary Statistics\n",
    "total_sales = df['TotalPrice'].sum()\n",
    "avg_order_value = df['TotalPrice'].mean()\n",
    "unique_customers = df['CustomerID'].nunique()\n",
    "top_country = df.groupby('Country')['TotalPrice'].sum().idxmax()\n",
    "top_country_sales = df.groupby('Country')['TotalPrice'].sum().max()\n",
    "\n",
    "# Sales by Country (Top 10)\n",
    "sales_by_country = df.groupby('Country')['TotalPrice'].sum().sort_values(ascending=False).head(10)\n",
    "\n",
    "# Sales Over Time (Monthly)\n",
    "sales_by_month = df.groupby(df['InvoiceDate'].dt.to_period('M'))['TotalPrice'].sum()\n",
    "\n",
    "# Top Products by Revenue\n",
    "top_products = df.groupby('Description')['TotalPrice'].sum().sort_values(ascending=False).head(5)\n",
    "\n",
    "# Print Summary\n",
    "print(\"Summary Statistics:\")\n",
    "print(f\"Total Sales: ${total_sales:,.2f}\")\n",
    "print(f\"Average Order Value: ${avg_order_value:,.2f}\")\n",
    "print(f\"Unique Customers: {unique_customers:,}\")\n",
    "print(f\"Top Country: {top_country} (${top_country_sales:,.2f})\")\n",
    "print(\"\\nTop 5 Products by Revenue:\")\n",
    "print(top_products)"
   ]
  },
  {
   "cell_type": "markdown",
   "id": "visualizations",
   "metadata": {},
   "source": [
    "## 5. Generate Visualizations\n",
    "Create and save three visualizations:\n",
    "1. Bar plot: Sales by country (top 10).\n",
    "2. Line plot: Monthly sales trends.\n",
    "3. Histogram: Distribution of order values."
   ]
  },
  {
   "cell_type": "code",
   "execution_count": 13,
   "id": "visualizations-code",
   "metadata": {},
   "outputs": [
    {
     "name": "stdout",
     "output_type": "stream",
     "text": [
      "Saved: sales_by_country.png\n",
      "Saved: sales_over_time.png\n",
      "Saved: order_value_distribution.png\n",
      "Confirmed: sales_by_country.png exists\n",
      "Confirmed: sales_over_time.png exists\n",
      "Confirmed: order_value_distribution.png exists\n"
     ]
    }
   ],
   "source": [
    "import matplotlib.pyplot as plt\n",
    "import seaborn as sns\n",
    "import os\n",
    "\n",
    "# Set Seaborn theme for consistent styling\n",
    "sns.set_theme(style='whitegrid')\n",
    "\n",
    "# 1. Sales by Country (Bar Plot)\n",
    "try:\n",
    "    plt.figure(figsize=(10, 6))\n",
    "    sns.barplot(x=sales_by_country.values, y=sales_by_country.index)\n",
    "    plt.title('Top 10 Countries by Sales Revenue')\n",
    "    plt.xlabel('Total Sales ($)')\n",
    "    plt.ylabel('Country')\n",
    "    plt.tight_layout()\n",
    "    plt.savefig('sales_by_country.png')\n",
    "    plt.close()\n",
    "    print(\"Saved: sales_by_country.png\")\n",
    "except Exception as e:\n",
    "    print(f\"Error saving sales_by_country.png: {e}\")\n",
    "\n",
    "# 2. Sales Over Time (Line Plot)\n",
    "try:\n",
    "    plt.figure(figsize=(10, 6))\n",
    "    sales_by_month.plot(kind='line', marker='o')\n",
    "    plt.title('Monthly Sales Trends')\n",
    "    plt.xlabel('Month')\n",
    "    plt.ylabel('Total Sales ($)')\n",
    "    plt.grid(True)\n",
    "    plt.tight_layout()\n",
    "    plt.savefig('sales_over_time.png')\n",
    "    plt.close()\n",
    "    print(\"Saved: sales_over_time.png\")\n",
    "except Exception as e:\n",
    "    print(f\"Error saving sales_over_time.png: {e}\")\n",
    "\n",
    "# 3. Distribution of TotalPrice (Histogram)\n",
    "try:\n",
    "    plt.figure(figsize=(10, 6))\n",
    "    sns.histplot(df['TotalPrice'], bins=50, kde=True)\n",
    "    plt.title('Distribution of Order Values')\n",
    "    plt.xlabel('Order Value ($)')\n",
    "    plt.ylabel('Frequency')\n",
    "    plt.xlim(0, df['TotalPrice'].quantile(0.95))  # Limit to 95th percentile for clarity\n",
    "    plt.tight_layout()\n",
    "    plt.savefig('order_value_distribution.png')\n",
    "    plt.close()\n",
    "    print(\"Saved: order_value_distribution.png\")\n",
    "except Exception as e:\n",
    "    print(f\"Error saving order_value_distribution.png: {e}\")\n",
    "\n",
    "# Verify all files were created\n",
    "for file in ['sales_by_country.png', 'sales_over_time.png', 'order_value_distribution.png']:\n",
    "    if os.path.exists(file):\n",
    "        print(f\"Confirmed: {file} exists\")\n",
    "    else:\n",
    "        print(f\"Warning: {file} not found\")"
   ]
  },
  {
   "cell_type": "markdown",
   "id": "report",
   "metadata": {},
   "source": [
    "## 6. Generate Markdown Report\n",
    "Write a professional Markdown report (`eda_report.md`) summarizing findings, embedding visualizations, and providing recommendations."
   ]
  },
  {
   "cell_type": "code",
   "execution_count": 14,
   "id": "report-code",
   "metadata": {},
   "outputs": [
    {
     "name": "stdout",
     "output_type": "stream",
     "text": [
      "Markdown report generated as 'eda_report.md'.\n"
     ]
    }
   ],
   "source": [
    "from datetime import datetime\n",
    "import uuid\n",
    "\n",
    "# Generate unique report ID\n",
    "report_id = str(uuid.uuid4())\n",
    "\n",
    "# Write Markdown report\n",
    "with open('eda_report.md', 'w') as f:\n",
    "    f.write('# Exploratory Data Analysis: E-Commerce Sales\\n')\n",
    "    f.write('**Date**: {}\\n'.format(datetime.now().strftime('%Y-%m-%d')))\n",
    "    f.write('**Author**: Nikesh Adhikari, Freelancer\\n\\n')\n",
    "    \n",
    "    f.write('## Introduction\\n')\n",
    "    f.write('This report presents an exploratory data analysis of an e-commerce sales dataset, covering transactions from December 2010 to December 2011. The dataset includes details on invoices, products, quantities, prices, customers, and countries. The goal is to uncover sales trends, identify key markets, and provide actionable recommendations.\\n\\n')\n",
    "    \n",
    "    f.write('## Data Cleaning\\n')\n",
    "    f.write('- Loaded dataset with 541,909 rows and 8 columns.\\n')\n",
    "    f.write('- Dropped 135,080 rows with missing `CustomerID` and 1,454 rows with missing `Description`.\\n')\n",
    "    f.write('- Filtered out 9,945 rows with non-positive `Quantity` or `UnitPrice` (returns or errors).\\n')\n",
    "    f.write('- Converted `InvoiceDate` to datetime for time-based analysis.\\n')\n",
    "    f.write('- Added `TotalPrice` column (`Quantity * UnitPrice`).\\n')\n",
    "    f.write('- Final dataset: 397,884 rows.\\n\\n')\n",
    "    \n",
    "    f.write('## Key Findings\\n')\n",
    "    f.write('- **Total Sales Revenue**: ${:,.2f}\\n'.format(total_sales))\n",
    "    f.write('- **Average Order Value**: ${:,.2f}\\n'.format(avg_order_value))\n",
    "    f.write('- **Unique Customers**: {:,}\\n'.format(unique_customers))\n",
    "    f.write('- **Top Country**: {} (${:,.2f}, {:.1f}% of total sales)\\n'.format(\n",
    "        top_country, top_country_sales, (top_country_sales / total_sales) * 100))\n",
    "    f.write('- **Top Products by Revenue**:\\n')\n",
    "    for product, revenue in top_products.items():\n",
    "        f.write('  - {}: ${:,.2f}\\n'.format(product, revenue))\n",
    "    f.write('\\n')\n",
    "    \n",
    "    f.write('## Visualizations\\n')\n",
    "    f.write('### Sales by Country\\n')\n",
    "    f.write('![Top 10 Countries by Sales](sales_by_country.png)\\n')\n",
    "    f.write('The UK dominates sales, followed by European countries like Germany and France.\\n\\n')\n",
    "    \n",
    "    f.write('### Sales Over Time\\n')\n",
    "    f.write('![Monthly Sales Trends](sales_over_time.png)\\n')\n",
    "    f.write('Sales show seasonal peaks, particularly in November 2011, likely due to holiday shopping.\\n\\n')\n",
    "    \n",
    "    f.write('### Order Value Distribution\\n')\n",
    "    f.write('![Order Value Distribution](order_value_distribution.png)\\n')\n",
    "    f.write('Most orders are small, with a right-skewed distribution and a few high-value outliers.\\n\\n')\n",
    "    \n",
    "    f.write('## Recommendations\\n')\n",
    "    f.write('- **Target UK Market**: As the UK accounts for the majority of sales, invest in loyalty programs and targeted promotions for UK customers.\\n')\n",
    "    f.write('- **Seasonal Campaigns**: Launch holiday promotions in Q4 (October–December) to capitalize on peak sales periods.\\n')\n",
    "    f.write('- **Focus on Top Products**: Prioritize inventory and marketing for high-revenue products (e.g., {}).\\n'.format(top_products.index[0]))\n",
    "    f.write('- **Expand in Europe**: Increase marketing efforts in Germany and France, which show strong sales potential.\\n')\n",
    "    f.write('- **Customer Retention**: Analyze repeat purchase behavior to develop strategies for retaining high-value customers.\\n\\n')\n",
    "    \n",
    "    f.write('## Conclusion\\n')\n",
    "    f.write('The EDA reveals significant sales concentration in the UK, strong seasonal trends, and a few high-revenue products driving performance. Next steps include deeper customer segmentation and predictive modeling.\\n')\n",
    "\n",
    "print(\"Markdown report generated as 'eda_report.md'.\")"
   ]
  },
  {
   "cell_type": "code",
   "execution_count": null,
   "id": "b33be5db-99be-4bd2-8c66-469fa3dbfcae",
   "metadata": {},
   "outputs": [],
   "source": []
  }
 ],
 "metadata": {
  "kernelspec": {
   "display_name": "Python 3 (ipykernel)",
   "language": "python",
   "name": "python3"
  },
  "language_info": {
   "codemirror_mode": {
    "name": "ipython",
    "version": 3
   },
   "file_extension": ".py",
   "mimetype": "text/x-python",
   "name": "python",
   "nbconvert_exporter": "python",
   "pygments_lexer": "ipython3",
   "version": "3.11.7"
  }
 },
 "nbformat": 4,
 "nbformat_minor": 5
}
